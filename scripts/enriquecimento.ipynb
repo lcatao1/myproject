{
 "cells": [
  {
   "cell_type": "code",
   "execution_count": 52,
   "id": "4f09e183",
   "metadata": {},
   "outputs": [],
   "source": [
    "import duckdb"
   ]
  },
  {
   "cell_type": "code",
   "execution_count": 53,
   "id": "8ff215cf",
   "metadata": {},
   "outputs": [],
   "source": [
    "con = duckdb.connect(database='dados_duckdb.db', read_only=False)"
   ]
  },
  {
   "cell_type": "code",
   "execution_count": 54,
   "id": "54cc3b92",
   "metadata": {},
   "outputs": [
    {
     "data": {
      "text/html": [
       "<div>\n",
       "<style scoped>\n",
       "    .dataframe tbody tr th:only-of-type {\n",
       "        vertical-align: middle;\n",
       "    }\n",
       "\n",
       "    .dataframe tbody tr th {\n",
       "        vertical-align: top;\n",
       "    }\n",
       "\n",
       "    .dataframe thead th {\n",
       "        text-align: right;\n",
       "    }\n",
       "</style>\n",
       "<table border=\"1\" class=\"dataframe\">\n",
       "  <thead>\n",
       "    <tr style=\"text-align: right;\">\n",
       "      <th></th>\n",
       "      <th>NATBR</th>\n",
       "      <th>MAKTX</th>\n",
       "      <th>WEKS</th>\n",
       "      <th>MAINS</th>\n",
       "      <th>LABST</th>\n",
       "      <th>nome_arquivo</th>\n",
       "      <th>data_ingestao</th>\n",
       "      <th>row</th>\n",
       "    </tr>\n",
       "  </thead>\n",
       "  <tbody>\n",
       "    <tr>\n",
       "      <th>0</th>\n",
       "      <td>10004</td>\n",
       "      <td>SERRA</td>\n",
       "      <td>BT50</td>\n",
       "      <td>100</td>\n",
       "      <td>200</td>\n",
       "      <td>z0019_2.csv</td>\n",
       "      <td>2025-07-20 18:44:38.241407</td>\n",
       "      <td>1</td>\n",
       "    </tr>\n",
       "    <tr>\n",
       "      <th>1</th>\n",
       "      <td>10002</td>\n",
       "      <td>MARTELO</td>\n",
       "      <td>BT10</td>\n",
       "      <td>100</td>\n",
       "      <td>1500</td>\n",
       "      <td>z0019_1.csv</td>\n",
       "      <td>2025-07-20 18:44:09.838079</td>\n",
       "      <td>1</td>\n",
       "    </tr>\n",
       "    <tr>\n",
       "      <th>2</th>\n",
       "      <td>10003</td>\n",
       "      <td>PREGO</td>\n",
       "      <td>BT10</td>\n",
       "      <td>100</td>\n",
       "      <td>60</td>\n",
       "      <td>z0019_2.csv</td>\n",
       "      <td>2025-07-20 18:44:38.241407</td>\n",
       "      <td>1</td>\n",
       "    </tr>\n",
       "    <tr>\n",
       "      <th>3</th>\n",
       "      <td>10001</td>\n",
       "      <td>PARAFUSO</td>\n",
       "      <td>BT10</td>\n",
       "      <td>100</td>\n",
       "      <td>100</td>\n",
       "      <td>z0019_1.csv</td>\n",
       "      <td>2025-07-20 18:44:09.838079</td>\n",
       "      <td>1</td>\n",
       "    </tr>\n",
       "    <tr>\n",
       "      <th>4</th>\n",
       "      <td>10005</td>\n",
       "      <td>MACHADO</td>\n",
       "      <td>BT50</td>\n",
       "      <td>100</td>\n",
       "      <td>100</td>\n",
       "      <td>z0019_2.csv</td>\n",
       "      <td>2025-07-20 18:44:38.241407</td>\n",
       "      <td>1</td>\n",
       "    </tr>\n",
       "  </tbody>\n",
       "</table>\n",
       "</div>"
      ],
      "text/plain": [
       "   NATBR     MAKTX  WEKS MAINS LABST nome_arquivo              data_ingestao  \\\n",
       "0  10004     SERRA  BT50   100   200  z0019_2.csv 2025-07-20 18:44:38.241407   \n",
       "1  10002   MARTELO  BT10   100  1500  z0019_1.csv 2025-07-20 18:44:09.838079   \n",
       "2  10003     PREGO  BT10   100    60  z0019_2.csv 2025-07-20 18:44:38.241407   \n",
       "3  10001  PARAFUSO  BT10   100   100  z0019_1.csv 2025-07-20 18:44:09.838079   \n",
       "4  10005   MACHADO  BT50   100   100  z0019_2.csv 2025-07-20 18:44:38.241407   \n",
       "\n",
       "   row  \n",
       "0    1  \n",
       "1    1  \n",
       "2    1  \n",
       "3    1  \n",
       "4    1  "
      ]
     },
     "execution_count": 54,
     "metadata": {},
     "output_type": "execute_result"
    }
   ],
   "source": [
    "df = con.execute(\"\"\"\n",
    "                 SELECT *\n",
    "                 FROM(\n",
    "                 SELECT *, ROW_NUMBER() OVER (PARTITION BY NATBR ORDER BY data_ingestao DESC) AS row\n",
    "                 FROM bronze_z0019\n",
    "                 WHERE data_ingestao >= '2025-07-20'\n",
    "                 ) WHERE row = 1\n",
    "                 \"\"\").fetchdf()\n",
    "df.head(10)"
   ]
  },
  {
   "cell_type": "code",
   "execution_count": 55,
   "id": "7e7df056",
   "metadata": {},
   "outputs": [
    {
     "data": {
      "text/html": [
       "<div>\n",
       "<style scoped>\n",
       "    .dataframe tbody tr th:only-of-type {\n",
       "        vertical-align: middle;\n",
       "    }\n",
       "\n",
       "    .dataframe tbody tr th {\n",
       "        vertical-align: top;\n",
       "    }\n",
       "\n",
       "    .dataframe thead th {\n",
       "        text-align: right;\n",
       "    }\n",
       "</style>\n",
       "<table border=\"1\" class=\"dataframe\">\n",
       "  <thead>\n",
       "    <tr style=\"text-align: right;\">\n",
       "      <th></th>\n",
       "      <th>id</th>\n",
       "      <th>nm_produto</th>\n",
       "      <th>id_categoria</th>\n",
       "      <th>id_fornecedor</th>\n",
       "      <th>vl_preco</th>\n",
       "    </tr>\n",
       "  </thead>\n",
       "  <tbody>\n",
       "    <tr>\n",
       "      <th>0</th>\n",
       "      <td>10004</td>\n",
       "      <td>SERRA</td>\n",
       "      <td>BT50</td>\n",
       "      <td>100</td>\n",
       "      <td>200</td>\n",
       "    </tr>\n",
       "    <tr>\n",
       "      <th>1</th>\n",
       "      <td>10002</td>\n",
       "      <td>MARTELO</td>\n",
       "      <td>BT10</td>\n",
       "      <td>100</td>\n",
       "      <td>1500</td>\n",
       "    </tr>\n",
       "    <tr>\n",
       "      <th>2</th>\n",
       "      <td>10003</td>\n",
       "      <td>PREGO</td>\n",
       "      <td>BT10</td>\n",
       "      <td>100</td>\n",
       "      <td>60</td>\n",
       "    </tr>\n",
       "    <tr>\n",
       "      <th>3</th>\n",
       "      <td>10001</td>\n",
       "      <td>PARAFUSO</td>\n",
       "      <td>BT10</td>\n",
       "      <td>100</td>\n",
       "      <td>100</td>\n",
       "    </tr>\n",
       "    <tr>\n",
       "      <th>4</th>\n",
       "      <td>10005</td>\n",
       "      <td>MACHADO</td>\n",
       "      <td>BT50</td>\n",
       "      <td>100</td>\n",
       "      <td>100</td>\n",
       "    </tr>\n",
       "  </tbody>\n",
       "</table>\n",
       "</div>"
      ],
      "text/plain": [
       "      id nm_produto id_categoria id_fornecedor vl_preco\n",
       "0  10004      SERRA         BT50           100      200\n",
       "1  10002    MARTELO         BT10           100     1500\n",
       "2  10003      PREGO         BT10           100       60\n",
       "3  10001   PARAFUSO         BT10           100      100\n",
       "4  10005    MACHADO         BT50           100      100"
      ]
     },
     "execution_count": 55,
     "metadata": {},
     "output_type": "execute_result"
    }
   ],
   "source": [
    "df_final = df.drop(columns=['nome_arquivo', 'data_ingestao', 'row'])\n",
    "df_final = df_final.rename(columns={'NATBR': 'id'})\n",
    "df_final = df_final.rename(columns={'MAKTX': 'nm_produto'})\n",
    "df_final = df_final.rename(columns={'WEKS': 'id_categoria'})\n",
    "df_final = df_final.rename(columns={'MAINS': 'id_fornecedor'})\n",
    "df_final = df_final.rename(columns={'LABST': 'vl_preco'})\n",
    "df_final.head(10)"
   ]
  },
  {
   "cell_type": "code",
   "execution_count": 56,
   "id": "ba6baaab",
   "metadata": {},
   "outputs": [
    {
     "data": {
      "text/plain": [
       "id                 int64\n",
       "nm_produto        object\n",
       "id_categoria      object\n",
       "id_fornecedor      int64\n",
       "vl_preco         float64\n",
       "dtype: object"
      ]
     },
     "execution_count": 56,
     "metadata": {},
     "output_type": "execute_result"
    }
   ],
   "source": [
    "df2 = df_final\n",
    "df2 = df2.astype({\n",
    "    'id': int,\n",
    "    'nm_produto': str,\n",
    "    'id_categoria': str,\n",
    "    'id_fornecedor': int,\n",
    "    'vl_preco': float\n",
    "})\n",
    "\n",
    "df2.dtypes"
   ]
  },
  {
   "cell_type": "code",
   "execution_count": 58,
   "id": "a811df44",
   "metadata": {},
   "outputs": [
    {
     "data": {
      "text/plain": [
       "<duckdb.duckdb.DuckDBPyConnection at 0x1bb0566a1f0>"
      ]
     },
     "execution_count": 58,
     "metadata": {},
     "output_type": "execute_result"
    }
   ],
   "source": [
    "con.execute(\"\"\"\n",
    "CREATE TABLE IF NOT EXISTS produtos (\n",
    "            id BIGINT,\n",
    "            nm_produto TEXT,\n",
    "            id_categoria TEXT,\n",
    "            id_fornecedor BIGINT,\n",
    "            vl_preco FLOAT\n",
    "            )      \n",
    "\"\"\")"
   ]
  },
  {
   "cell_type": "code",
   "execution_count": 59,
   "id": "f74e0198",
   "metadata": {},
   "outputs": [
    {
     "data": {
      "text/plain": [
       "<duckdb.duckdb.DuckDBPyConnection at 0x1bb0566a1f0>"
      ]
     },
     "execution_count": 59,
     "metadata": {},
     "output_type": "execute_result"
    }
   ],
   "source": [
    "con.execute(\"INSERT INTO produtos SELECT * FROM df2\")"
   ]
  },
  {
   "cell_type": "code",
   "execution_count": 60,
   "id": "6b376653",
   "metadata": {},
   "outputs": [
    {
     "data": {
      "text/html": [
       "<div>\n",
       "<style scoped>\n",
       "    .dataframe tbody tr th:only-of-type {\n",
       "        vertical-align: middle;\n",
       "    }\n",
       "\n",
       "    .dataframe tbody tr th {\n",
       "        vertical-align: top;\n",
       "    }\n",
       "\n",
       "    .dataframe thead th {\n",
       "        text-align: right;\n",
       "    }\n",
       "</style>\n",
       "<table border=\"1\" class=\"dataframe\">\n",
       "  <thead>\n",
       "    <tr style=\"text-align: right;\">\n",
       "      <th></th>\n",
       "      <th>id</th>\n",
       "      <th>nm_produto</th>\n",
       "      <th>id_categoria</th>\n",
       "      <th>id_fornecedor</th>\n",
       "      <th>vl_preco</th>\n",
       "    </tr>\n",
       "  </thead>\n",
       "  <tbody>\n",
       "    <tr>\n",
       "      <th>0</th>\n",
       "      <td>10004</td>\n",
       "      <td>SERRA</td>\n",
       "      <td>BT50</td>\n",
       "      <td>100</td>\n",
       "      <td>200.0</td>\n",
       "    </tr>\n",
       "    <tr>\n",
       "      <th>1</th>\n",
       "      <td>10002</td>\n",
       "      <td>MARTELO</td>\n",
       "      <td>BT10</td>\n",
       "      <td>100</td>\n",
       "      <td>1500.0</td>\n",
       "    </tr>\n",
       "    <tr>\n",
       "      <th>2</th>\n",
       "      <td>10003</td>\n",
       "      <td>PREGO</td>\n",
       "      <td>BT10</td>\n",
       "      <td>100</td>\n",
       "      <td>60.0</td>\n",
       "    </tr>\n",
       "    <tr>\n",
       "      <th>3</th>\n",
       "      <td>10001</td>\n",
       "      <td>PARAFUSO</td>\n",
       "      <td>BT10</td>\n",
       "      <td>100</td>\n",
       "      <td>100.0</td>\n",
       "    </tr>\n",
       "    <tr>\n",
       "      <th>4</th>\n",
       "      <td>10005</td>\n",
       "      <td>MACHADO</td>\n",
       "      <td>BT50</td>\n",
       "      <td>100</td>\n",
       "      <td>100.0</td>\n",
       "    </tr>\n",
       "  </tbody>\n",
       "</table>\n",
       "</div>"
      ],
      "text/plain": [
       "      id nm_produto id_categoria  id_fornecedor  vl_preco\n",
       "0  10004      SERRA         BT50            100     200.0\n",
       "1  10002    MARTELO         BT10            100    1500.0\n",
       "2  10003      PREGO         BT10            100      60.0\n",
       "3  10001   PARAFUSO         BT10            100     100.0\n",
       "4  10005    MACHADO         BT50            100     100.0"
      ]
     },
     "execution_count": 60,
     "metadata": {},
     "output_type": "execute_result"
    }
   ],
   "source": [
    "df_resultado = con.execute(\"SELECT * FROM produtos\").fetchdf()\n",
    "df_resultado.head(10)"
   ]
  },
  {
   "cell_type": "code",
   "execution_count": 61,
   "id": "1dac346b",
   "metadata": {},
   "outputs": [],
   "source": [
    "con.close()"
   ]
  }
 ],
 "metadata": {
  "kernelspec": {
   "display_name": "Python 3",
   "language": "python",
   "name": "python3"
  },
  "language_info": {
   "codemirror_mode": {
    "name": "ipython",
    "version": 3
   },
   "file_extension": ".py",
   "mimetype": "text/x-python",
   "name": "python",
   "nbconvert_exporter": "python",
   "pygments_lexer": "ipython3",
   "version": "3.13.3"
  }
 },
 "nbformat": 4,
 "nbformat_minor": 5
}
