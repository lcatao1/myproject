{
 "cells": [
  {
   "cell_type": "code",
   "execution_count": 14,
   "id": "c7a6516d",
   "metadata": {},
   "outputs": [],
   "source": [
    "import duckdb\n",
    "import pandas as pd\n",
    "import os\n",
    "from datetime import datetime"
   ]
  },
  {
   "cell_type": "code",
   "execution_count": 15,
   "id": "e01ceec1",
   "metadata": {},
   "outputs": [],
   "source": [
    "con = duckdb.connect(database='dados_duckdb.db', read_only=False)"
   ]
  },
  {
   "cell_type": "code",
   "execution_count": 26,
   "id": "d0916389",
   "metadata": {},
   "outputs": [],
   "source": [
    "arquivo = 'z0019_1.csv'\n",
    "#arquivo = 'z0019_2.csv'"
   ]
  },
  {
   "cell_type": "code",
   "execution_count": 27,
   "id": "d8d5fb59",
   "metadata": {},
   "outputs": [
    {
     "data": {
      "text/html": [
       "<div>\n",
       "<style scoped>\n",
       "    .dataframe tbody tr th:only-of-type {\n",
       "        vertical-align: middle;\n",
       "    }\n",
       "\n",
       "    .dataframe tbody tr th {\n",
       "        vertical-align: top;\n",
       "    }\n",
       "\n",
       "    .dataframe thead th {\n",
       "        text-align: right;\n",
       "    }\n",
       "</style>\n",
       "<table border=\"1\" class=\"dataframe\">\n",
       "  <thead>\n",
       "    <tr style=\"text-align: right;\">\n",
       "      <th></th>\n",
       "      <th>NATBR</th>\n",
       "      <th>MAKTX</th>\n",
       "      <th>WEKS</th>\n",
       "      <th>MAINS</th>\n",
       "      <th>LABST</th>\n",
       "      <th>nome_arquivo</th>\n",
       "      <th>data_ingestao</th>\n",
       "    </tr>\n",
       "  </thead>\n",
       "  <tbody>\n",
       "    <tr>\n",
       "      <th>0</th>\n",
       "      <td>10003</td>\n",
       "      <td>PREGO</td>\n",
       "      <td>BT10</td>\n",
       "      <td>100</td>\n",
       "      <td>50</td>\n",
       "      <td>z0019_1.csv</td>\n",
       "      <td>2025-07-20 18:52:25.989181</td>\n",
       "    </tr>\n",
       "    <tr>\n",
       "      <th>1</th>\n",
       "      <td>10001</td>\n",
       "      <td>PARAFUSO</td>\n",
       "      <td>BT10</td>\n",
       "      <td>100</td>\n",
       "      <td>100</td>\n",
       "      <td>z0019_1.csv</td>\n",
       "      <td>2025-07-20 18:52:25.989181</td>\n",
       "    </tr>\n",
       "    <tr>\n",
       "      <th>2</th>\n",
       "      <td>10002</td>\n",
       "      <td>MARTELO</td>\n",
       "      <td>BT10</td>\n",
       "      <td>100</td>\n",
       "      <td>1500</td>\n",
       "      <td>z0019_1.csv</td>\n",
       "      <td>2025-07-20 18:52:25.989181</td>\n",
       "    </tr>\n",
       "  </tbody>\n",
       "</table>\n",
       "</div>"
      ],
      "text/plain": [
       "   NATBR     MAKTX  WEKS  MAINS  LABST nome_arquivo              data_ingestao\n",
       "0  10003     PREGO  BT10    100     50  z0019_1.csv 2025-07-20 18:52:25.989181\n",
       "1  10001  PARAFUSO  BT10    100    100  z0019_1.csv 2025-07-20 18:52:25.989181\n",
       "2  10002   MARTELO  BT10    100   1500  z0019_1.csv 2025-07-20 18:52:25.989181"
      ]
     },
     "execution_count": 27,
     "metadata": {},
     "output_type": "execute_result"
    }
   ],
   "source": [
    "data_ingestao = datetime.now()\n",
    "df = pd.read_csv(f'../landing/{arquivo}', sep=';')\n",
    "df['nome_arquivo'] = arquivo    \n",
    "df['data_ingestao'] = data_ingestao\n",
    "df.head()"
   ]
  },
  {
   "cell_type": "code",
   "execution_count": 28,
   "id": "4f3d0097",
   "metadata": {},
   "outputs": [
    {
     "data": {
      "text/plain": [
       "<duckdb.duckdb.DuckDBPyConnection at 0x1ba5e43ed30>"
      ]
     },
     "execution_count": 28,
     "metadata": {},
     "output_type": "execute_result"
    }
   ],
   "source": [
    "con.execute(\"\"\"\n",
    "CREATE TABLE IF NOT EXISTS bronze_produtos (\n",
    "    NATBR VARCHAR,\n",
    "    MAKTX VARCHAR,\n",
    "    WEKS VARCHAR,\n",
    "    MAINS VARCHAR,\n",
    "    LABST VARCHAR,\n",
    "    nome_arquivo VARCHAR,\n",
    "    data_ingestao TIMESTAMP\n",
    ");\n",
    "\"\"\")"
   ]
  },
  {
   "cell_type": "code",
   "execution_count": 29,
   "id": "89ccc644",
   "metadata": {},
   "outputs": [
    {
     "data": {
      "text/plain": [
       "<duckdb.duckdb.DuckDBPyConnection at 0x1ba5e43ed30>"
      ]
     },
     "execution_count": 29,
     "metadata": {},
     "output_type": "execute_result"
    }
   ],
   "source": [
    "con.execute(\"INSERT INTO bronze_produtos SELECT * FROM df\")"
   ]
  },
  {
   "cell_type": "code",
   "execution_count": 30,
   "id": "493fbac9",
   "metadata": {},
   "outputs": [
    {
     "ename": "CatalogException",
     "evalue": "Catalog Error: Could not rename \"bronze_produtos\" to \"bronze_z0019\": another entry with this name already exists!",
     "output_type": "error",
     "traceback": [
      "\u001b[31m---------------------------------------------------------------------------\u001b[39m",
      "\u001b[31mCatalogException\u001b[39m                          Traceback (most recent call last)",
      "\u001b[36mCell\u001b[39m\u001b[36m \u001b[39m\u001b[32mIn[30]\u001b[39m\u001b[32m, line 1\u001b[39m\n\u001b[32m----> \u001b[39m\u001b[32m1\u001b[39m \u001b[43mcon\u001b[49m\u001b[43m.\u001b[49m\u001b[43mexecute\u001b[49m\u001b[43m(\u001b[49m\u001b[33;43m\"\"\"\u001b[39;49m\u001b[33;43mALTER TABLE bronze_produtos RENAME TO bronze_z0019\u001b[39;49m\u001b[33;43m\"\"\"\u001b[39;49m\u001b[43m)\u001b[49m\n",
      "\u001b[31mCatalogException\u001b[39m: Catalog Error: Could not rename \"bronze_produtos\" to \"bronze_z0019\": another entry with this name already exists!"
     ]
    }
   ],
   "source": [
    "con.execute(\"\"\"ALTER TABLE bronze_produtos RENAME TO bronze_z0019\"\"\")"
   ]
  },
  {
   "cell_type": "code",
   "execution_count": 31,
   "id": "e31fe0c3",
   "metadata": {},
   "outputs": [
    {
     "data": {
      "text/html": [
       "<div>\n",
       "<style scoped>\n",
       "    .dataframe tbody tr th:only-of-type {\n",
       "        vertical-align: middle;\n",
       "    }\n",
       "\n",
       "    .dataframe tbody tr th {\n",
       "        vertical-align: top;\n",
       "    }\n",
       "\n",
       "    .dataframe thead th {\n",
       "        text-align: right;\n",
       "    }\n",
       "</style>\n",
       "<table border=\"1\" class=\"dataframe\">\n",
       "  <thead>\n",
       "    <tr style=\"text-align: right;\">\n",
       "      <th></th>\n",
       "      <th>NATBR</th>\n",
       "      <th>MAKTX</th>\n",
       "      <th>WEKS</th>\n",
       "      <th>MAINS</th>\n",
       "      <th>LABST</th>\n",
       "      <th>nome_arquivo</th>\n",
       "      <th>data_ingestao</th>\n",
       "    </tr>\n",
       "  </thead>\n",
       "  <tbody>\n",
       "    <tr>\n",
       "      <th>0</th>\n",
       "      <td>10003</td>\n",
       "      <td>PREGO</td>\n",
       "      <td>BT10</td>\n",
       "      <td>100</td>\n",
       "      <td>50</td>\n",
       "      <td>z0019_1.csv</td>\n",
       "      <td>2025-07-20 18:44:09.838079</td>\n",
       "    </tr>\n",
       "    <tr>\n",
       "      <th>1</th>\n",
       "      <td>10001</td>\n",
       "      <td>PARAFUSO</td>\n",
       "      <td>BT10</td>\n",
       "      <td>100</td>\n",
       "      <td>100</td>\n",
       "      <td>z0019_1.csv</td>\n",
       "      <td>2025-07-20 18:44:09.838079</td>\n",
       "    </tr>\n",
       "    <tr>\n",
       "      <th>2</th>\n",
       "      <td>10002</td>\n",
       "      <td>MARTELO</td>\n",
       "      <td>BT10</td>\n",
       "      <td>100</td>\n",
       "      <td>1500</td>\n",
       "      <td>z0019_1.csv</td>\n",
       "      <td>2025-07-20 18:44:09.838079</td>\n",
       "    </tr>\n",
       "    <tr>\n",
       "      <th>3</th>\n",
       "      <td>10004</td>\n",
       "      <td>SERRA</td>\n",
       "      <td>BT50</td>\n",
       "      <td>100</td>\n",
       "      <td>200</td>\n",
       "      <td>z0019_2.csv</td>\n",
       "      <td>2025-07-20 18:44:38.241407</td>\n",
       "    </tr>\n",
       "    <tr>\n",
       "      <th>4</th>\n",
       "      <td>10005</td>\n",
       "      <td>MACHADO</td>\n",
       "      <td>BT50</td>\n",
       "      <td>100</td>\n",
       "      <td>100</td>\n",
       "      <td>z0019_2.csv</td>\n",
       "      <td>2025-07-20 18:44:38.241407</td>\n",
       "    </tr>\n",
       "  </tbody>\n",
       "</table>\n",
       "</div>"
      ],
      "text/plain": [
       "   NATBR     MAKTX  WEKS MAINS LABST nome_arquivo              data_ingestao\n",
       "0  10003     PREGO  BT10   100    50  z0019_1.csv 2025-07-20 18:44:09.838079\n",
       "1  10001  PARAFUSO  BT10   100   100  z0019_1.csv 2025-07-20 18:44:09.838079\n",
       "2  10002   MARTELO  BT10   100  1500  z0019_1.csv 2025-07-20 18:44:09.838079\n",
       "3  10004     SERRA  BT50   100   200  z0019_2.csv 2025-07-20 18:44:38.241407\n",
       "4  10005   MACHADO  BT50   100   100  z0019_2.csv 2025-07-20 18:44:38.241407"
      ]
     },
     "execution_count": 31,
     "metadata": {},
     "output_type": "execute_result"
    }
   ],
   "source": [
    "resultado = con.execute(\"SELECT * FROM bronze_z0019\").fetchdf()\n",
    "resultado.head()"
   ]
  },
  {
   "cell_type": "code",
   "execution_count": 32,
   "id": "bf8da2af",
   "metadata": {},
   "outputs": [],
   "source": [
    "con.close()"
   ]
  }
 ],
 "metadata": {
  "kernelspec": {
   "display_name": "Python 3",
   "language": "python",
   "name": "python3"
  },
  "language_info": {
   "codemirror_mode": {
    "name": "ipython",
    "version": 3
   },
   "file_extension": ".py",
   "mimetype": "text/x-python",
   "name": "python",
   "nbconvert_exporter": "python",
   "pygments_lexer": "ipython3",
   "version": "3.13.3"
  }
 },
 "nbformat": 4,
 "nbformat_minor": 5
}
